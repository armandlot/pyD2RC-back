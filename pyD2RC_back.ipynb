{
  "nbformat": 4,
  "nbformat_minor": 0,
  "metadata": {
    "colab": {
      "provenance": [],
      "authorship_tag": "ABX9TyOcSBSZQ8pxoCFjy+G8NILv",
      "include_colab_link": true
    },
    "kernelspec": {
      "name": "python3",
      "display_name": "Python 3"
    },
    "language_info": {
      "name": "python"
    }
  },
  "cells": [
    {
      "cell_type": "markdown",
      "metadata": {
        "id": "view-in-github",
        "colab_type": "text"
      },
      "source": [
        "<a href=\"https://colab.research.google.com/github/armandlot/pyD2RC-back/blob/main/pyD2RC_back.ipynb\" target=\"_parent\"><img src=\"https://colab.research.google.com/assets/colab-badge.svg\" alt=\"Open In Colab\"/></a>"
      ]
    },
    {
      "cell_type": "code",
      "execution_count": 11,
      "metadata": {
        "colab": {
          "base_uri": "https://localhost:8080/"
        },
        "id": "q6bcfn-IjEkJ",
        "outputId": "ed42cab1-04dc-4edf-ee40-8f9f4b8ecd40"
      },
      "outputs": [
        {
          "output_type": "stream",
          "name": "stdout",
          "text": [
            "### Welcome to D2RCpy ###\n",
            "To begin, select a char [1-n], or create a new one [0]\n",
            "0\n",
            "You selected :0\n",
            "=== Create a new char ===\n",
            "Name ? (string)\n",
            "Two\n",
            "Class ? (string)\n",
            "Barb\n",
            "Level ? (int)\n",
            "75\n",
            "MF ? (string)\n",
            "245\n",
            "Ladder ? (bool)\n",
            "true\n",
            "... Printing to file: { \"name\":\"Two\", \"class\": \"Barb\", \"level\":75, \"mf\":245, \"ladder\": \"true\" }\n"
          ]
        }
      ],
      "source": [
        "import json\n",
        "\n",
        "def select_char():\n",
        "  print(\"To begin, select a char [1-n], or create a new one [0]\")\n",
        "  char_index = input()\n",
        "  print(\"You selected :\"+char_index)\n",
        "  if(char_index == '0'): new_char()\n",
        "\n",
        "# #####################\n",
        "# ### CHAR CREATION ###\n",
        "# #####################\n",
        "# A char is : [name, class, level, mf%, ladder]\n",
        "def new_char():\n",
        "  print(\"=== Create a new char ===\")\n",
        "  print(\"Name ? (string)\")\n",
        "  char_name = input()\n",
        "  print(\"Class ? (string)\")\n",
        "  char_class = input()\n",
        "  print(\"Level ? (int)\")\n",
        "  char_level = input()\n",
        "  print(\"MF ? (int)\")\n",
        "  char_mf = input()\n",
        "  print(\"Ladder ? (bool)\")\n",
        "  char_ladder = input()\n",
        "  char_json =  '{ \"name\":\"' + char_name + '\", \"class\": \"' + char_class + '\", \"level\":'+ char_level + ', \"mf\":' + char_mf + ', \"ladder\": \"' + char_ladder + '\" }'\n",
        "\n",
        "  print(\"... Printing to file:... \" + char_json)\n",
        "  with open('data.json', 'w') as f:\n",
        "    json.dump(char_json, f)\n",
        "\n",
        "  # ###########\n",
        "  # ### RUN ###\n",
        "  # ###########\n",
        "print(\"### Welcome to D2RCpy ###\")\n",
        "select_char()"
      ]
    },
    {
      "cell_type": "code",
      "source": [],
      "metadata": {
        "id": "TkgHAqY9jW8a"
      },
      "execution_count": null,
      "outputs": []
    }
  ]
}